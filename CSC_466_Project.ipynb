{
  "nbformat": 4,
  "nbformat_minor": 0,
  "metadata": {
    "colab": {
      "name": "CSC 466 Project.ipynb",
      "provenance": [],
      "collapsed_sections": [],
      "include_colab_link": true
    },
    "kernelspec": {
      "name": "python3",
      "display_name": "Python 3"
    },
    "language_info": {
      "name": "python"
    }
  },
  "cells": [
    {
      "cell_type": "markdown",
      "metadata": {
        "id": "view-in-github",
        "colab_type": "text"
      },
      "source": [
        "<a href=\"https://colab.research.google.com/github/tyfarris16/CSC-436/blob/master/CSC_466_Project.ipynb\" target=\"_parent\"><img src=\"https://colab.research.google.com/assets/colab-badge.svg\" alt=\"Open In Colab\"/></a>"
      ]
    },
    {
      "cell_type": "markdown",
      "metadata": {
        "id": "yB7RM2Et89Qc"
      },
      "source": [
        "# <font color = \"lime\"> CSC 466 Team 13 Food Image Classification</font>\n",
        "<font color = \"lightgreen\"> Ty Farris | Marine Cossoul | Sean Nesbit </font>\n",
        "\n",
        "[Multiclass image classification article](https://towardsdatascience.com/end-to-end-pipeline-for-setting-up-multiclass-image-classification-for-data-scientists-2e051081d41c)"
      ]
    },
    {
      "cell_type": "markdown",
      "metadata": {
        "id": "yXbAyVCU8o-K"
      },
      "source": [
        "## <font color = \"lightblue\"> Mount drive </font>\n",
        "*You may need to visit CSC466 folder, and 'Add Shortcut to Drive' or 'Move To > My Drive\"*"
      ]
    },
    {
      "cell_type": "code",
      "metadata": {
        "colab": {
          "base_uri": "https://localhost:8080/"
        },
        "id": "QnsPwlnc6YNK",
        "outputId": "081e295b-5882-43e4-cb7b-5babe6c9b32f"
      },
      "source": [
        "from google.colab import drive\n",
        "drive.mount('/content/drive')\n",
        "datadir = \"drive/MyDrive/CSC466/csc466_data/\""
      ],
      "execution_count": null,
      "outputs": [
        {
          "output_type": "stream",
          "text": [
            "Drive already mounted at /content/drive; to attempt to forcibly remount, call drive.mount(\"/content/drive\", force_remount=True).\n"
          ],
          "name": "stdout"
        }
      ]
    },
    {
      "cell_type": "code",
      "metadata": {
        "id": "SIbEf0f5m9ds",
        "colab": {
          "base_uri": "https://localhost:8080/"
        },
        "outputId": "cac5a9ec-1ea2-4905-e737-6f365a409ce1"
      },
      "source": [
        "!ls drive/MyDrive/CSC466/\n",
        "!cd drive/MyDrive/CSC466/csc466_data/"
      ],
      "execution_count": null,
      "outputs": [
        {
          "output_type": "stream",
          "text": [
            " csc466_data\n",
            "'CSC 466 Project.ipynb'\n",
            "'CSC 466 Team 13 Project Pitch.gdoc'\n",
            " food.zip\n",
            "'KDD Project Proposal - Warmup Group 13.gdoc'\n"
          ],
          "name": "stdout"
        }
      ]
    },
    {
      "cell_type": "markdown",
      "metadata": {
        "id": "CNwxvNhvksmi"
      },
      "source": [
        "# <font color = \"lightblue\"> Build text files for X,y </font>\n",
        " - This is to build the dataset more quickly \n",
        " - <font color=\"lime\">These files are now built and in the csc466_data folder</font>\n",
        " - Running this block is not necessary currently, unless you want to shuffle the data again\n"
      ]
    },
    {
      "cell_type": "code",
      "metadata": {
        "colab": {
          "base_uri": "https://localhost:8080/"
        },
        "id": "NmFiMkc7knSS",
        "outputId": "9b04df92-e8a8-46b4-acff-b3daa5cefaad"
      },
      "source": [
        "import os\n",
        "import random\n",
        "\n",
        "labels = os.listdir(datadir+\"/images\")\n",
        "X = []\n",
        "y = []\n",
        "\n",
        "#read directories\n",
        "for label in labels:\n",
        "  food_dir = datadir +\"images/\"+ label\n",
        "  food_images = os.listdir(food_dir)\n",
        "  X.extend(food_images) \n",
        "  y.extend([label]*len(food_images))\n",
        "\n",
        "#shuffle the data\n",
        "data = list(zip(X, y))\n",
        "random.shuffle(data)\n",
        "X, y = zip(*data)\n",
        "\n",
        "#write out to /CSC466/466_data/\n",
        "with open(datadir+\"X.txt\",\"w\") as Xfile:\n",
        "  for filename in X:\n",
        "    Xfile.write(f\"{filename}\\n\")\n",
        "  print(f\"X.txt -- Complete: {len(X)} items\")\n",
        "with open(datadir+\"y.txt\",\"w\") as Xfile:\n",
        "  for filename in y:\n",
        "    Xfile.write(f\"{filename}\\n\")\n",
        "  print(f\"y.txt -- Complete: {len(y)} items\")"
      ],
      "execution_count": null,
      "outputs": [
        {
          "output_type": "stream",
          "text": [
            "X.txt -- Complete: 101016 items\n",
            "y.txt -- Complete: 101016 items\n"
          ],
          "name": "stdout"
        }
      ]
    },
    {
      "cell_type": "markdown",
      "metadata": {
        "id": "ZvIAyQZO3S9w"
      },
      "source": [
        "## <font color = \"lightblue\">  Load X,y from text files </font>"
      ]
    },
    {
      "cell_type": "code",
      "metadata": {
        "id": "V2em31eC25xr",
        "colab": {
          "base_uri": "https://localhost:8080/"
        },
        "outputId": "f43da2a1-12ee-4595-a954-0109a3cc9168"
      },
      "source": [
        "import os\n",
        "import math\n",
        "import random\n",
        "\n",
        "X = []\n",
        "y = []\n",
        "X_train = []\n",
        "y_train = []\n",
        "X_test = []\n",
        "y_test = []\n",
        "\n",
        "#read\n",
        "with open(datadir+\"X.txt\",\"r\") as Xfile:\n",
        "  X = Xfile.readlines()\n",
        "with open(datadir+\"y.txt\",\"r\") as yfile:\n",
        "  y = yfile.readlines()\n",
        "\n",
        "#split\n",
        "split = math.ceil(len(X)*0.80)\n",
        "X_train = X[:split]\n",
        "X_test  = X[split:]\n",
        "y_train = y[:split]\n",
        "y_test  = y[split:]\n",
        "\n",
        "print(f\"Train len: {len(X_train)} | Test len: {len(X_test)}\")"
      ],
      "execution_count": null,
      "outputs": [
        {
          "output_type": "stream",
          "text": [
            "Train len: 80813 | Test len: 20203\n"
          ],
          "name": "stdout"
        }
      ]
    },
    {
      "cell_type": "markdown",
      "metadata": {
        "id": "j1zepX2euzPh"
      },
      "source": [
        "# <font color = \"lightblue\"> Process images </font>"
      ]
    },
    {
      "cell_type": "code",
      "metadata": {
        "id": "BZN4al3uu7Lg"
      },
      "source": [
        ""
      ],
      "execution_count": null,
      "outputs": []
    },
    {
      "cell_type": "markdown",
      "metadata": {
        "id": "wvJx9jHau7oq"
      },
      "source": [
        "# <font color = \"lightblue\"> Build model </font>"
      ]
    },
    {
      "cell_type": "code",
      "metadata": {
        "id": "q20KatQVvASm"
      },
      "source": [
        ""
      ],
      "execution_count": null,
      "outputs": []
    },
    {
      "cell_type": "markdown",
      "metadata": {
        "id": "Dyhkrl-xvBQo"
      },
      "source": [
        "# <font color = \"lightblue\"> Evaluate model </font>"
      ]
    },
    {
      "cell_type": "code",
      "metadata": {
        "id": "HUb_Hz3xvEhp"
      },
      "source": [
        ""
      ],
      "execution_count": null,
      "outputs": []
    }
  ]
}