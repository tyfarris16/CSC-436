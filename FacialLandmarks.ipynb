{
  "nbformat": 4,
  "nbformat_minor": 0,
  "metadata": {
    "colab": {
      "name": "FacialLandmarks.ipynb",
      "provenance": [],
      "collapsed_sections": [],
      "include_colab_link": true
    },
    "kernelspec": {
      "name": "python3",
      "display_name": "Python 3"
    },
    "language_info": {
      "name": "python"
    },
    "accelerator": "GPU"
  },
  "cells": [
    {
      "cell_type": "markdown",
      "metadata": {
        "id": "view-in-github",
        "colab_type": "text"
      },
      "source": [
        "<a href=\"https://colab.research.google.com/github/tyfarris16/CSC-436/blob/master/FacialLandmarks.ipynb\" target=\"_parent\"><img src=\"https://colab.research.google.com/assets/colab-badge.svg\" alt=\"Open In Colab\"/></a>"
      ]
    },
    {
      "cell_type": "markdown",
      "metadata": {
        "id": "0EJZwDvM21EV"
      },
      "source": [
        "# Facial Landmarks\n",
        "Experimentation with facial landmarks models and datasets."
      ]
    },
    {
      "cell_type": "code",
      "metadata": {
        "id": "MQFjoPKY-ZaY"
      },
      "source": [
        "import numpy as np\n",
        "import matplotlib.pyplot as plt\n",
        "from matplotlib.patches import Circle\n",
        "import pandas as pd\n",
        "import tensorflow as tf\n",
        "from tensorflow.keras.models import Model, Sequential\n",
        "from tensorflow.keras import layers\n",
        "from google.colab import drive\n",
        "import os\n",
        "from scipy.io import loadmat\n",
        "import random"
      ],
      "execution_count": 1,
      "outputs": []
    },
    {
      "cell_type": "code",
      "metadata": {
        "id": "LCIThEi--w0H",
        "colab": {
          "base_uri": "https://localhost:8080/"
        },
        "outputId": "c19ba3fe-4d66-4823-d9b2-d4d79b09d609"
      },
      "source": [
        "drive.mount('/content/drive')"
      ],
      "execution_count": 2,
      "outputs": [
        {
          "output_type": "stream",
          "text": [
            "Mounted at /content/drive\n"
          ],
          "name": "stdout"
        }
      ]
    },
    {
      "cell_type": "markdown",
      "metadata": {
        "id": "ZXe9WUnF2_O3"
      },
      "source": [
        "Add your name and filepath to the project folder so that you can load the datasets.\n"
      ]
    },
    {
      "cell_type": "code",
      "metadata": {
        "id": "ngxIBPhm1Q80"
      },
      "source": [
        "USER = \"Ty\"\n",
        "USER_FILEPATHS = {\n",
        "    \"John\" : \"/content/drive/MyDrive/CSC 566 Project\",\n",
        "    \"Jeremy\" : \"/content/drive/MyDrive/School/Undergrad/2021 Spring/CSC 566/CSC 566 Project\",\n",
        "    \"Ty\" : \"/content/drive/MyDrive/CSC 566 Project\"\n",
        "}\n",
        "PROJECT_FILEPATH = USER_FILEPATHS[USER]"
      ],
      "execution_count": 3,
      "outputs": []
    },
    {
      "cell_type": "markdown",
      "metadata": {
        "id": "wcX_vDf3BcjR"
      },
      "source": [
        "## Data Preparation"
      ]
    },
    {
      "cell_type": "code",
      "metadata": {
        "id": "PpSQj0yh2UTF"
      },
      "source": [
        "# Sanity check for loading data\n",
        "def display_landmarks(img, points):\n",
        "  \"\"\"\n",
        "  Displays portrait with landmark dots drawn on the face.\n",
        "  Assumes that points are in (68,2)\n",
        "  \"\"\"\n",
        "  #If we are reading from .mat files directly (2,68)\n",
        "  if points.shape[0] == 2:\n",
        "    points = points.transpose(1,0)\n",
        "  #If reading from model output\n",
        "  elif len(points.shape) == 1:\n",
        "    points = points.reshape(-1,2)\n",
        "  fig,ax = plt.subplots(1)\n",
        "  ax.set_aspect('equal')\n",
        "  ax.imshow(img)\n",
        "  for p in points:\n",
        "      circ = Circle(p)\n",
        "      ax.add_patch(circ)\n",
        "  plt.show()\n",
        "\n",
        "#points = loadmat(AFW_DATASET + \"/70037463_1.mat\")[\"pt2d\"]\n",
        "#img  = plt.imread( AFW_DATASET+\"/70037463_1.jpg\")\n",
        "\n",
        "#display_landmarks(img,points)\n",
        "\n"
      ],
      "execution_count": 9,
      "outputs": []
    },
    {
      "cell_type": "code",
      "metadata": {
        "id": "k-39rOKd3deP",
        "colab": {
          "base_uri": "https://localhost:8080/"
        },
        "outputId": "2a56844a-16d3-41ef-c434-cf8369d0f846"
      },
      "source": [
        "import tensorflow as tf\n",
        "\n",
        "DATALOADER_BASE_PATH = PROJECT_FILEPATH + \"/datasets/tf-datasets\"\n",
        "USE_CROPPED_IMAGES = True\n",
        "DATASET_PREFIX = \"cropped-\" if USE_CROPPED_IMAGES else \"\"\n",
        "\n",
        "class DataLoader:\n",
        "\n",
        "  IMAGE_SHAPE = (256, 256, 3) if USE_CROPPED_IMAGES else (450, 450, 3)\n",
        "  LANDMARKS_SHAPE = (136,)\n",
        "\n",
        "  BATCH_SIZE = 64\n",
        "  TRAIN_PATHS = [f\"{DATALOADER_BASE_PATH}/{DATASET_PREFIX}train-{i}.tfrecord.gz\" for i in range(5)]\n",
        "  VAL_PATHS = [f\"{DATALOADER_BASE_PATH}/{DATASET_PREFIX}val-{i}.tfrecord.gz\" for i in range(5)]\n",
        "  TEST_PATHS = [f\"{DATALOADER_BASE_PATH}/{DATASET_PREFIX}test-{i}.tfrecord.gz\" for i in range(5)]\n",
        "\n",
        "  def load_datasets():\n",
        "    dl = DataLoader()\n",
        "    return (dl.__load_dataset(DataLoader.TRAIN_PATHS, DataLoader.BATCH_SIZE),\n",
        "            dl.__load_dataset(DataLoader.VAL_PATHS, DataLoader.BATCH_SIZE),\n",
        "            dl.__load_dataset(DataLoader.TEST_PATHS, 1))\n",
        "\n",
        "  def __load_dataset(self, filepath, batch_size):\n",
        "    dataset = tf.data.TFRecordDataset([filepath], compression_type=\"GZIP\")\n",
        "    dataset = dataset.map(self.__parse_example, num_parallel_calls=tf.data.AUTOTUNE)\n",
        "    dataset = dataset.map(self.__reshape_entry, num_parallel_calls=tf.data.AUTOTUNE)\n",
        "    images = dataset.map(lambda x,y: x).batch(DataLoader.BATCH_SIZE)\n",
        "    labels = dataset.map(lambda x,y: y).batch(DataLoader.BATCH_SIZE)\n",
        "    dataset = tf.data.Dataset.zip((images, labels))\n",
        "    dataset.cache() # Cache the above map operations so they aren't re-run every epoch\n",
        "    return dataset\n",
        "\n",
        "\n",
        "  def __parse_example(self, record):\n",
        "    feature_names = {}\n",
        "    feature_names['image'] = tf.io.FixedLenSequenceFeature([],tf.float32, allow_missing=True)\n",
        "    feature_names['landmarks'] = tf.io.FixedLenSequenceFeature([],tf.float32, allow_missing=True)\n",
        "    return tf.io.parse_single_example(record, feature_names)\n",
        "\n",
        "  def __reshape_entry(self, entry):\n",
        "    image = tf.reshape(entry['image'], DataLoader.IMAGE_SHAPE)\n",
        "    landmarks = tf.reshape(entry['landmarks'], DataLoader.LANDMARKS_SHAPE)\n",
        "    return image, landmarks\n",
        "\n",
        "\n",
        "train_data, val_data, test_data = DataLoader.load_datasets()\n",
        "for i,record in enumerate(val_data):\n",
        "  print(record[0].shape)"
      ],
      "execution_count": 11,
      "outputs": [
        {
          "output_type": "stream",
          "text": [
            "(64, 256, 256, 3)\n",
            "(64, 256, 256, 3)\n",
            "(64, 256, 256, 3)\n",
            "(58, 256, 256, 3)\n"
          ],
          "name": "stdout"
        }
      ]
    },
    {
      "cell_type": "markdown",
      "metadata": {
        "id": "ZwW6y33R9jmf"
      },
      "source": [
        "## Basic Benchmark Model\n",
        "From [this medium article](https://towardsdatascience.com/detecting-facial-features-using-deep-learning-2e23c8660a7a)"
      ]
    },
    {
      "cell_type": "code",
      "metadata": {
        "id": "rX_z1wLO2YfP"
      },
      "source": [
        "def create_basic_landmark_model(input_shape, conv_range):\n",
        "  input_layer = layers.Input(input_shape)\n",
        "  x = input_layer\n",
        "  for exp in conv_range:\n",
        "    x = layers.Conv2D(2**exp, (3,3), 3, activation=\"relu\")(x)\n",
        "    x = layers.MaxPool2D(padding=\"same\")(x)\n",
        "  x = layers.Flatten()(x)\n",
        "  x = layers.Dense(500, activation=\"relu\")(x)\n",
        "  x = layers.Dense(90, activation=\"relu\")(x)\n",
        "  x = layers.Dense(68*2, activation=\"relu\")(x)\n",
        "  return Model(name=\"landmark_locator\", inputs=input_layer, outputs=x)\n",
        "\n"
      ],
      "execution_count": 12,
      "outputs": []
    },
    {
      "cell_type": "code",
      "metadata": {
        "id": "RfkeiXIDEfgL",
        "colab": {
          "base_uri": "https://localhost:8080/"
        },
        "outputId": "74b75d1a-8854-424d-d0d3-ceed2a3e0006"
      },
      "source": [
        "INPUT_SHAPE = (256, 256, 3)\n",
        "basic_model = create_basic_landmark_model(INPUT_SHAPE, range(5,8))\n",
        "basic_model.compile(optimizer=\"adam\", loss=\"mse\", metrics=[\"accuracy\"])\n",
        "basic_model.summary()"
      ],
      "execution_count": 13,
      "outputs": [
        {
          "output_type": "stream",
          "text": [
            "Model: \"landmark_locator\"\n",
            "_________________________________________________________________\n",
            "Layer (type)                 Output Shape              Param #   \n",
            "=================================================================\n",
            "input_2 (InputLayer)         [(None, 256, 256, 3)]     0         \n",
            "_________________________________________________________________\n",
            "conv2d_3 (Conv2D)            (None, 85, 85, 32)        896       \n",
            "_________________________________________________________________\n",
            "max_pooling2d_3 (MaxPooling2 (None, 43, 43, 32)        0         \n",
            "_________________________________________________________________\n",
            "conv2d_4 (Conv2D)            (None, 14, 14, 64)        18496     \n",
            "_________________________________________________________________\n",
            "max_pooling2d_4 (MaxPooling2 (None, 7, 7, 64)          0         \n",
            "_________________________________________________________________\n",
            "conv2d_5 (Conv2D)            (None, 2, 2, 128)         73856     \n",
            "_________________________________________________________________\n",
            "max_pooling2d_5 (MaxPooling2 (None, 1, 1, 128)         0         \n",
            "_________________________________________________________________\n",
            "flatten_1 (Flatten)          (None, 128)               0         \n",
            "_________________________________________________________________\n",
            "dense_3 (Dense)              (None, 500)               64500     \n",
            "_________________________________________________________________\n",
            "dense_4 (Dense)              (None, 90)                45090     \n",
            "_________________________________________________________________\n",
            "dense_5 (Dense)              (None, 136)               12376     \n",
            "=================================================================\n",
            "Total params: 215,214\n",
            "Trainable params: 215,214\n",
            "Non-trainable params: 0\n",
            "_________________________________________________________________\n"
          ],
          "name": "stdout"
        }
      ]
    },
    {
      "cell_type": "code",
      "metadata": {
        "id": "eQc5qiW1FzcD",
        "colab": {
          "base_uri": "https://localhost:8080/"
        },
        "outputId": "923f62f3-d113-49ce-885d-368c7b68100e"
      },
      "source": [
        "# Training\n",
        "basic_model.fit(train_data.shuffle(64), epochs=30, validation_data=val_data, verbose=1)\n",
        "basic_model.save_weights(PROJECT_FILEPATH + \"/basic-weights.h5\")"
      ],
      "execution_count": 14,
      "outputs": [
        {
          "output_type": "stream",
          "text": [
            "Epoch 1/30\n",
            "26/26 [==============================] - 57s 113ms/step - loss: 0.9722 - accuracy: 0.0012 - val_loss: 0.6835 - val_accuracy: 0.0120\n",
            "Epoch 2/30\n",
            "26/26 [==============================] - 14s 102ms/step - loss: 0.8709 - accuracy: 0.2388 - val_loss: 0.6698 - val_accuracy: 0.6280\n",
            "Epoch 3/30\n",
            "26/26 [==============================] - 14s 103ms/step - loss: 0.8652 - accuracy: 0.5040 - val_loss: 0.6674 - val_accuracy: 0.4800\n",
            "Epoch 4/30\n",
            "26/26 [==============================] - 14s 104ms/step - loss: 0.8570 - accuracy: 0.3926 - val_loss: 0.6659 - val_accuracy: 0.6280\n",
            "Epoch 5/30\n",
            "26/26 [==============================] - 14s 104ms/step - loss: 0.8462 - accuracy: 0.4591 - val_loss: 0.6684 - val_accuracy: 0.1880\n",
            "Epoch 6/30\n",
            "26/26 [==============================] - 14s 105ms/step - loss: 0.8427 - accuracy: 0.4425 - val_loss: 0.6844 - val_accuracy: 0.1600\n",
            "Epoch 7/30\n",
            "26/26 [==============================] - 14s 103ms/step - loss: 0.8360 - accuracy: 0.4332 - val_loss: 0.6738 - val_accuracy: 0.6240\n",
            "Epoch 8/30\n",
            "26/26 [==============================] - 14s 103ms/step - loss: 0.8158 - accuracy: 0.5705 - val_loss: 0.6745 - val_accuracy: 0.6240\n",
            "Epoch 9/30\n",
            "26/26 [==============================] - 14s 103ms/step - loss: 0.8068 - accuracy: 0.4529 - val_loss: 0.6906 - val_accuracy: 0.2000\n",
            "Epoch 10/30\n",
            "26/26 [==============================] - 14s 101ms/step - loss: 0.8045 - accuracy: 0.5237 - val_loss: 0.6948 - val_accuracy: 0.6200\n",
            "Epoch 11/30\n",
            "26/26 [==============================] - 14s 102ms/step - loss: 0.8017 - accuracy: 0.5551 - val_loss: 0.6519 - val_accuracy: 0.5400\n",
            "Epoch 12/30\n",
            "26/26 [==============================] - 14s 102ms/step - loss: 0.7880 - accuracy: 0.5569 - val_loss: 0.6500 - val_accuracy: 0.6160\n",
            "Epoch 13/30\n",
            "26/26 [==============================] - 14s 105ms/step - loss: 0.7839 - accuracy: 0.5477 - val_loss: 0.6317 - val_accuracy: 0.6040\n",
            "Epoch 14/30\n",
            "26/26 [==============================] - 14s 102ms/step - loss: 0.7662 - accuracy: 0.5625 - val_loss: 0.6329 - val_accuracy: 0.6360\n",
            "Epoch 15/30\n",
            "26/26 [==============================] - 14s 102ms/step - loss: 0.7594 - accuracy: 0.4338 - val_loss: 0.5987 - val_accuracy: 0.0720\n",
            "Epoch 16/30\n",
            "26/26 [==============================] - 14s 103ms/step - loss: 0.7211 - accuracy: 0.4726 - val_loss: 0.5750 - val_accuracy: 0.5840\n",
            "Epoch 17/30\n",
            "26/26 [==============================] - 14s 103ms/step - loss: 0.7008 - accuracy: 0.5280 - val_loss: 0.6225 - val_accuracy: 0.5600\n",
            "Epoch 18/30\n",
            "26/26 [==============================] - 14s 103ms/step - loss: 0.6943 - accuracy: 0.5551 - val_loss: 0.6085 - val_accuracy: 0.5320\n",
            "Epoch 19/30\n",
            "26/26 [==============================] - 14s 106ms/step - loss: 0.7238 - accuracy: 0.5545 - val_loss: 0.5987 - val_accuracy: 0.5880\n",
            "Epoch 20/30\n",
            "26/26 [==============================] - 14s 106ms/step - loss: 0.6857 - accuracy: 0.5378 - val_loss: 0.6128 - val_accuracy: 0.5280\n",
            "Epoch 21/30\n",
            "26/26 [==============================] - 14s 104ms/step - loss: 0.6660 - accuracy: 0.3785 - val_loss: 0.5990 - val_accuracy: 0.0960\n",
            "Epoch 22/30\n",
            "26/26 [==============================] - 14s 103ms/step - loss: 0.7088 - accuracy: 0.3206 - val_loss: 0.5898 - val_accuracy: 0.6280\n",
            "Epoch 23/30\n",
            "26/26 [==============================] - 14s 104ms/step - loss: 0.6905 - accuracy: 0.5618 - val_loss: 0.5538 - val_accuracy: 0.6120\n",
            "Epoch 24/30\n",
            "26/26 [==============================] - 14s 103ms/step - loss: 0.6415 - accuracy: 0.5151 - val_loss: 0.5522 - val_accuracy: 0.5520\n",
            "Epoch 25/30\n",
            "26/26 [==============================] - 14s 103ms/step - loss: 0.6367 - accuracy: 0.5114 - val_loss: 0.5608 - val_accuracy: 0.5760\n",
            "Epoch 26/30\n",
            "26/26 [==============================] - 14s 105ms/step - loss: 0.6102 - accuracy: 0.5157 - val_loss: 0.5716 - val_accuracy: 0.5600\n",
            "Epoch 27/30\n",
            "26/26 [==============================] - 14s 104ms/step - loss: 0.5883 - accuracy: 0.5188 - val_loss: 0.5662 - val_accuracy: 0.5680\n",
            "Epoch 28/30\n",
            "26/26 [==============================] - 14s 103ms/step - loss: 0.5977 - accuracy: 0.5323 - val_loss: 0.5597 - val_accuracy: 0.5800\n",
            "Epoch 29/30\n",
            "26/26 [==============================] - 14s 104ms/step - loss: 0.5607 - accuracy: 0.4529 - val_loss: 0.5838 - val_accuracy: 0.5080\n",
            "Epoch 30/30\n",
            "26/26 [==============================] - 14s 104ms/step - loss: 0.5317 - accuracy: 0.4222 - val_loss: 0.5536 - val_accuracy: 0.4120\n"
          ],
          "name": "stdout"
        }
      ]
    },
    {
      "cell_type": "code",
      "metadata": {
        "id": "vmyv0MlwCFIN"
      },
      "source": [
        "# Running\n",
        "basic_model.load_weights(PROJECT_FILEPATH + \"/basic-weights.h5\")"
      ],
      "execution_count": 15,
      "outputs": []
    },
    {
      "cell_type": "markdown",
      "metadata": {
        "id": "nr31eAIQVGlu"
      },
      "source": [
        "### Analyze Results"
      ]
    },
    {
      "cell_type": "code",
      "metadata": {
        "id": "ukAD1nioU9WQ"
      },
      "source": [
        "pd.DataFrame(basic_model.history.history).plot()"
      ],
      "execution_count": null,
      "outputs": []
    },
    {
      "cell_type": "code",
      "metadata": {
        "id": "uQJxDEObVSOx"
      },
      "source": [
        "predictions = basic_model.predict(test_data.map(lambda x,y: x))"
      ],
      "execution_count": null,
      "outputs": []
    },
    {
      "cell_type": "code",
      "metadata": {
        "id": "2AShlJ00Vz81"
      },
      "source": [
        "#@title View Predicted Images\n",
        "image_index = 3 #@param {type:\"slider\", min:1, max:16, step:1}\n",
        "points = predictions * 450\n",
        "i = 0\n",
        "for x in test_data.map(lambda x,y: x):\n",
        "  if (i == image_index):\n",
        "    display_landmarks(tf.reshape(x, DataLoader.IMAGE_SHAPE), points[image_index])\n",
        "    break\n",
        "  i += 1"
      ],
      "execution_count": null,
      "outputs": []
    }
  ]
}